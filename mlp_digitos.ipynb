{
 "cells": [
  {
   "cell_type": "code",
   "execution_count": 2,
   "metadata": {},
   "outputs": [],
   "source": [
    "import numpy as np\n",
    "# import matplotlib.pyplot as plt\n",
    "# import sklearn.datasets\n",
    "# import sklearn.preprocessing\n",
    "# import sklearn.neural_network\n",
    "# import sklearn.model_selection"
   ]
  },
  {
   "cell_type": "code",
   "execution_count": 2,
   "metadata": {},
   "outputs": [
    {
     "name": "stdout",
     "output_type": "stream",
     "text": [
      "(1797, 64) (1797,)\n"
     ]
    }
   ],
   "source": [
    "numeros = sklearn.datasets.load_digits()\n",
    "imagenes = numeros['images']  # Hay 1797 digitos representados en imagenes 8x8\n",
    "n_imagenes = len(imagenes)\n",
    "X = imagenes.reshape((n_imagenes, -1)) # para volver a tener los datos como imagen basta hacer data.reshape((n_imagenes, 8, 8))\n",
    "Y = numeros['target']\n",
    "print(np.shape(X), np.shape(Y))"
   ]
  },
  {
   "cell_type": "code",
   "execution_count": 3,
   "metadata": {},
   "outputs": [],
   "source": [
    "X_train, X_test, Y_train, Y_test = sklearn.model_selection.train_test_split(X, Y, test_size=0.5)"
   ]
  },
  {
   "cell_type": "code",
   "execution_count": 4,
   "metadata": {},
   "outputs": [],
   "source": [
    "scaler = sklearn.preprocessing.StandardScaler()\n",
    "X_train = scaler.fit_transform(X_train)\n",
    "X_test = scaler.transform(X_test)"
   ]
  },
  {
   "cell_type": "code",
   "execution_count": 6,
   "metadata": {},
   "outputs": [],
   "source": [
    "#Number of neurons\n",
    "n=np.arange(1,21)\n",
    "#loss\n",
    "loss=[]\n",
    "#f1_score\n",
    "f1_s=[]"
   ]
  },
  {
   "cell_type": "code",
   "execution_count": 5,
   "metadata": {},
   "outputs": [],
   "source": [
    "for i in n:\n",
    "    mlp = sklearn.neural_network.MLPClassifier(activation='logistic', \n",
    "                                           hidden_layer_sizes=(i), \n",
    "                                           max_iter=200)\n",
    "    #mlp.fit(X_train, Y_train)\n",
    "#     if(i==5):\n",
    "#         opt_coef=mlp.coefs_\n",
    "    loss=np.append(loss,mlp.loss_)\n",
    "    f1_s=np.append(f1_s,sklearn.metrics.f1_score(Y_test, mlp.predict(X_test), average='macro'))\n",
    "    #print('Loss', mlp.loss_)#entropía relativa, divergencia"
   ]
  },
  {
   "cell_type": "code",
   "execution_count": null,
   "metadata": {},
   "outputs": [],
   "source": [
    "plt.figure(1,figsize = (10,10))\n",
    "plt.subplot(1,2,1)\n",
    "plt.plot(n,loss)\n",
    "plt.xlabel('n neurons')\n",
    "plt.ylabel('loss')\n",
    "plt.subplot(1,2,2)\n",
    "plt.plot(n,loss)\n",
    "plt.xlabel('n neurons')\n",
    "plt.ylabel('f_1 score')\n",
    "plt.savefig(\"loss_f1.png\")"
   ]
  },
  {
   "cell_type": "code",
   "execution_count": null,
   "metadata": {},
   "outputs": [],
   "source": [
    "n_opt=5\n",
    "mlp = sklearn.neural_network.MLPClassifier(activation='logistic', \n",
    "                                           hidden_layer_sizes=(n_opt), \n",
    "                                           max_iter=200)\n",
    "#mlp.fit(X_train, Y_train)\n",
    "opt_coef=mlp.coefs_\n",
    "loss=np.append(loss,mlp.loss_)\n",
    "f1_s=np.append(f1_s,sklearn.metrics.f1_score(Y_test, mlp.predict(X_test), average='macro'))\n"
   ]
  },
  {
   "cell_type": "code",
   "execution_count": null,
   "metadata": {},
   "outputs": [],
   "source": [
    "plt.figure(figsize=(10, 5))\n",
    "scale = np.max(mlp.coefs_[0])\n",
    "plt.figure()\n",
    "for i in range(5):\n",
    "    l1_plot = plt.subplot(2, 5, i + 1)\n",
    "    l1_plot.imshow(opt_coef[0][:,i].reshape(8, 8), interpolation='nearest',\n",
    "                   cmap=plt.cm.RdBu, vmin=-scale, vmax=scale)\n",
    "    l1_plot.set_xticks(())\n",
    "    l1_plot.set_yticks(())\n",
    "    l1_plot.set_xlabel('Neuron %i' % i)\n",
    "plt.savefig(\"neuronas.png\")"
   ]
  }
 ],
 "metadata": {
  "kernelspec": {
   "display_name": "Python 3",
   "language": "python",
   "name": "python3"
  },
  "language_info": {
   "codemirror_mode": {
    "name": "ipython",
    "version": 3
   },
   "file_extension": ".py",
   "mimetype": "text/x-python",
   "name": "python",
   "nbconvert_exporter": "python",
   "pygments_lexer": "ipython3",
   "version": "3.7.4"
  }
 },
 "nbformat": 4,
 "nbformat_minor": 2
}
